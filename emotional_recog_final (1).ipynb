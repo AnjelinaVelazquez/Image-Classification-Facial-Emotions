{
  "nbformat": 4,
  "nbformat_minor": 0,
  "metadata": {
    "colab": {
      "name": "emotional_recog.ipynb",
      "provenance": [],
      "collapsed_sections": []
    },
    "kernelspec": {
      "name": "python3",
      "display_name": "Python 3"
    },
    "language_info": {
      "name": "python"
    },
    "accelerator": "TPU"
  },
  "cells": [
    {
      "cell_type": "code",
      "execution_count": null,
      "metadata": {
        "id": "sRmCMgMiQcHU",
        "colab": {
          "base_uri": "https://localhost:8080/"
        },
        "outputId": "c3a644bc-2f88-4326-af8c-df934ca4d3e9"
      },
      "outputs": [
        {
          "output_type": "stream",
          "name": "stdout",
          "text": [
            "Mounted at /content/drive\n"
          ]
        }
      ],
      "source": [
        "import pandas as pd\n",
        "\n",
        "\n",
        "#We used the following so we didnt have to reupload the data file we wanted to use repeatedly\n",
        "#make sure to upload the 'fer2013.csv' file to your google drive (way faster)\n",
        "#from google.colab import drive\n",
        "#drive.mount('/content/drive')\n",
        "\n",
        "#can use the following when you want to upload the dataset to your notebook once\n",
        "#will be prompted to upload the file, takes a quite a bit of time (32 mins)\n",
        "\n",
        "from google.colab import files\n",
        "uploaded = files.upload()\n",
        "\n"
      ]
    },
    {
      "cell_type": "code",
      "source": [
        "#various imports needed for this notebook\n",
        "import numpy as np\n",
        "from sklearn.model_selection import train_test_split\n",
        "import tensorflow as tf\n",
        "from tensorflow import keras\n",
        "from keras.utils import np_utils\n",
        "from imblearn.over_sampling import RandomOverSampler\n",
        "import os\n",
        "\n",
        "\n",
        "#need the below pieces of code to use TPU provided by google colab \n",
        "#if there are no TPUs available, you may see an error message about how resources are being shared and thats how google colab is kept free\n",
        "#if this happens, just try again or try much later in the day. We have noticed that during the night time, TPUs seem to always be available\n",
        "\n",
        "resolver = tf.distribute.cluster_resolver.TPUClusterResolver(tpu='grpc://' + os.environ['COLAB_TPU_ADDR']) #Connect to the TPU handle and initialise it\n",
        "tf.config.experimental_connect_to_cluster(resolver)\n",
        "tf.tpu.experimental.initialize_tpu_system(resolver)"
      ],
      "metadata": {
        "id": "55xZrUyAiDPM",
        "colab": {
          "base_uri": "https://localhost:8080/"
        },
        "outputId": "ac9954c5-e71c-40a7-c847-43cc8b179af2"
      },
      "execution_count": null,
      "outputs": [
        {
          "output_type": "stream",
          "name": "stdout",
          "text": [
            "INFO:tensorflow:Deallocate tpu buffers before initializing tpu system.\n"
          ]
        },
        {
          "output_type": "stream",
          "name": "stderr",
          "text": [
            "INFO:tensorflow:Deallocate tpu buffers before initializing tpu system.\n"
          ]
        },
        {
          "output_type": "stream",
          "name": "stdout",
          "text": [
            "INFO:tensorflow:Initializing the TPU system: grpc://10.38.231.122:8470\n"
          ]
        },
        {
          "output_type": "stream",
          "name": "stderr",
          "text": [
            "INFO:tensorflow:Initializing the TPU system: grpc://10.38.231.122:8470\n"
          ]
        },
        {
          "output_type": "stream",
          "name": "stdout",
          "text": [
            "INFO:tensorflow:Finished initializing TPU system.\n"
          ]
        },
        {
          "output_type": "stream",
          "name": "stderr",
          "text": [
            "INFO:tensorflow:Finished initializing TPU system.\n"
          ]
        },
        {
          "output_type": "execute_result",
          "data": {
            "text/plain": [
              "<tensorflow.python.tpu.topology.Topology at 0x7f30c2dc2b50>"
            ]
          },
          "metadata": {},
          "execution_count": 2
        }
      ]
    },
    {
      "cell_type": "code",
      "source": [
        "strategy = tf.distribute.TPUStrategy(resolver)\n"
      ],
      "metadata": {
        "colab": {
          "base_uri": "https://localhost:8080/"
        },
        "id": "1u2g9SFZTuRE",
        "outputId": "db24c452-e23b-47f2-e7c6-fffb085cb1b1"
      },
      "execution_count": null,
      "outputs": [
        {
          "output_type": "stream",
          "name": "stdout",
          "text": [
            "INFO:tensorflow:Found TPU system:\n"
          ]
        },
        {
          "output_type": "stream",
          "name": "stderr",
          "text": [
            "INFO:tensorflow:Found TPU system:\n"
          ]
        },
        {
          "output_type": "stream",
          "name": "stdout",
          "text": [
            "INFO:tensorflow:*** Num TPU Cores: 8\n"
          ]
        },
        {
          "output_type": "stream",
          "name": "stderr",
          "text": [
            "INFO:tensorflow:*** Num TPU Cores: 8\n"
          ]
        },
        {
          "output_type": "stream",
          "name": "stdout",
          "text": [
            "INFO:tensorflow:*** Num TPU Workers: 1\n"
          ]
        },
        {
          "output_type": "stream",
          "name": "stderr",
          "text": [
            "INFO:tensorflow:*** Num TPU Workers: 1\n"
          ]
        },
        {
          "output_type": "stream",
          "name": "stdout",
          "text": [
            "INFO:tensorflow:*** Num TPU Cores Per Worker: 8\n"
          ]
        },
        {
          "output_type": "stream",
          "name": "stderr",
          "text": [
            "INFO:tensorflow:*** Num TPU Cores Per Worker: 8\n"
          ]
        },
        {
          "output_type": "stream",
          "name": "stdout",
          "text": [
            "INFO:tensorflow:*** Available Device: _DeviceAttributes(/job:localhost/replica:0/task:0/device:CPU:0, CPU, 0, 0)\n"
          ]
        },
        {
          "output_type": "stream",
          "name": "stderr",
          "text": [
            "INFO:tensorflow:*** Available Device: _DeviceAttributes(/job:localhost/replica:0/task:0/device:CPU:0, CPU, 0, 0)\n"
          ]
        },
        {
          "output_type": "stream",
          "name": "stdout",
          "text": [
            "INFO:tensorflow:*** Available Device: _DeviceAttributes(/job:worker/replica:0/task:0/device:CPU:0, CPU, 0, 0)\n"
          ]
        },
        {
          "output_type": "stream",
          "name": "stderr",
          "text": [
            "INFO:tensorflow:*** Available Device: _DeviceAttributes(/job:worker/replica:0/task:0/device:CPU:0, CPU, 0, 0)\n"
          ]
        },
        {
          "output_type": "stream",
          "name": "stdout",
          "text": [
            "INFO:tensorflow:*** Available Device: _DeviceAttributes(/job:worker/replica:0/task:0/device:TPU:0, TPU, 0, 0)\n"
          ]
        },
        {
          "output_type": "stream",
          "name": "stderr",
          "text": [
            "INFO:tensorflow:*** Available Device: _DeviceAttributes(/job:worker/replica:0/task:0/device:TPU:0, TPU, 0, 0)\n"
          ]
        },
        {
          "output_type": "stream",
          "name": "stdout",
          "text": [
            "INFO:tensorflow:*** Available Device: _DeviceAttributes(/job:worker/replica:0/task:0/device:TPU:1, TPU, 0, 0)\n"
          ]
        },
        {
          "output_type": "stream",
          "name": "stderr",
          "text": [
            "INFO:tensorflow:*** Available Device: _DeviceAttributes(/job:worker/replica:0/task:0/device:TPU:1, TPU, 0, 0)\n"
          ]
        },
        {
          "output_type": "stream",
          "name": "stdout",
          "text": [
            "INFO:tensorflow:*** Available Device: _DeviceAttributes(/job:worker/replica:0/task:0/device:TPU:2, TPU, 0, 0)\n"
          ]
        },
        {
          "output_type": "stream",
          "name": "stderr",
          "text": [
            "INFO:tensorflow:*** Available Device: _DeviceAttributes(/job:worker/replica:0/task:0/device:TPU:2, TPU, 0, 0)\n"
          ]
        },
        {
          "output_type": "stream",
          "name": "stdout",
          "text": [
            "INFO:tensorflow:*** Available Device: _DeviceAttributes(/job:worker/replica:0/task:0/device:TPU:3, TPU, 0, 0)\n"
          ]
        },
        {
          "output_type": "stream",
          "name": "stderr",
          "text": [
            "INFO:tensorflow:*** Available Device: _DeviceAttributes(/job:worker/replica:0/task:0/device:TPU:3, TPU, 0, 0)\n"
          ]
        },
        {
          "output_type": "stream",
          "name": "stdout",
          "text": [
            "INFO:tensorflow:*** Available Device: _DeviceAttributes(/job:worker/replica:0/task:0/device:TPU:4, TPU, 0, 0)\n"
          ]
        },
        {
          "output_type": "stream",
          "name": "stderr",
          "text": [
            "INFO:tensorflow:*** Available Device: _DeviceAttributes(/job:worker/replica:0/task:0/device:TPU:4, TPU, 0, 0)\n"
          ]
        },
        {
          "output_type": "stream",
          "name": "stdout",
          "text": [
            "INFO:tensorflow:*** Available Device: _DeviceAttributes(/job:worker/replica:0/task:0/device:TPU:5, TPU, 0, 0)\n"
          ]
        },
        {
          "output_type": "stream",
          "name": "stderr",
          "text": [
            "INFO:tensorflow:*** Available Device: _DeviceAttributes(/job:worker/replica:0/task:0/device:TPU:5, TPU, 0, 0)\n"
          ]
        },
        {
          "output_type": "stream",
          "name": "stdout",
          "text": [
            "INFO:tensorflow:*** Available Device: _DeviceAttributes(/job:worker/replica:0/task:0/device:TPU:6, TPU, 0, 0)\n"
          ]
        },
        {
          "output_type": "stream",
          "name": "stderr",
          "text": [
            "INFO:tensorflow:*** Available Device: _DeviceAttributes(/job:worker/replica:0/task:0/device:TPU:6, TPU, 0, 0)\n"
          ]
        },
        {
          "output_type": "stream",
          "name": "stdout",
          "text": [
            "INFO:tensorflow:*** Available Device: _DeviceAttributes(/job:worker/replica:0/task:0/device:TPU:7, TPU, 0, 0)\n"
          ]
        },
        {
          "output_type": "stream",
          "name": "stderr",
          "text": [
            "INFO:tensorflow:*** Available Device: _DeviceAttributes(/job:worker/replica:0/task:0/device:TPU:7, TPU, 0, 0)\n"
          ]
        },
        {
          "output_type": "stream",
          "name": "stdout",
          "text": [
            "INFO:tensorflow:*** Available Device: _DeviceAttributes(/job:worker/replica:0/task:0/device:TPU_SYSTEM:0, TPU_SYSTEM, 0, 0)\n"
          ]
        },
        {
          "output_type": "stream",
          "name": "stderr",
          "text": [
            "INFO:tensorflow:*** Available Device: _DeviceAttributes(/job:worker/replica:0/task:0/device:TPU_SYSTEM:0, TPU_SYSTEM, 0, 0)\n"
          ]
        },
        {
          "output_type": "stream",
          "name": "stdout",
          "text": [
            "INFO:tensorflow:*** Available Device: _DeviceAttributes(/job:worker/replica:0/task:0/device:XLA_CPU:0, XLA_CPU, 0, 0)\n"
          ]
        },
        {
          "output_type": "stream",
          "name": "stderr",
          "text": [
            "INFO:tensorflow:*** Available Device: _DeviceAttributes(/job:worker/replica:0/task:0/device:XLA_CPU:0, XLA_CPU, 0, 0)\n"
          ]
        }
      ]
    },
    {
      "cell_type": "code",
      "source": [
        "#use this if mounted to drive/ change the directory depending on where you stored the file\n",
        "#df = pd.read_csv('/content/drive/MyDrive/fer2013.csv')\n",
        "\n",
        "#use this if you uploaded the dataset to google colab\n",
        "df = pd.read_csv('fer2013.csv')"
      ],
      "metadata": {
        "id": "utKJl9twRgIB"
      },
      "execution_count": null,
      "outputs": []
    },
    {
      "cell_type": "code",
      "source": [
        "df "
      ],
      "metadata": {
        "colab": {
          "base_uri": "https://localhost:8080/",
          "height": 424
        },
        "id": "-eJMKnf8cdcL",
        "outputId": "47b8dce7-7f42-4cfd-e583-4b91e6b56f91"
      },
      "execution_count": null,
      "outputs": [
        {
          "output_type": "execute_result",
          "data": {
            "text/plain": [
              "       emotion                                             pixels        Usage\n",
              "0            0  70 80 82 72 58 58 60 63 54 58 60 48 89 115 121...     Training\n",
              "1            0  151 150 147 155 148 133 111 140 170 174 182 15...     Training\n",
              "2            2  231 212 156 164 174 138 161 173 182 200 106 38...     Training\n",
              "3            4  24 32 36 30 32 23 19 20 30 41 21 22 32 34 21 1...     Training\n",
              "4            6  4 0 0 0 0 0 0 0 0 0 0 0 3 15 23 28 48 50 58 84...     Training\n",
              "...        ...                                                ...          ...\n",
              "35882        6  50 36 17 22 23 29 33 39 34 37 37 37 39 43 48 5...  PrivateTest\n",
              "35883        3  178 174 172 173 181 188 191 194 196 199 200 20...  PrivateTest\n",
              "35884        0  17 17 16 23 28 22 19 17 25 26 20 24 31 19 27 9...  PrivateTest\n",
              "35885        3  30 28 28 29 31 30 42 68 79 81 77 67 67 71 63 6...  PrivateTest\n",
              "35886        2  19 13 14 12 13 16 21 33 50 57 71 84 97 108 122...  PrivateTest\n",
              "\n",
              "[35887 rows x 3 columns]"
            ],
            "text/html": [
              "\n",
              "  <div id=\"df-b03cff61-9fc6-4c40-b4d4-62c52c62fea7\">\n",
              "    <div class=\"colab-df-container\">\n",
              "      <div>\n",
              "<style scoped>\n",
              "    .dataframe tbody tr th:only-of-type {\n",
              "        vertical-align: middle;\n",
              "    }\n",
              "\n",
              "    .dataframe tbody tr th {\n",
              "        vertical-align: top;\n",
              "    }\n",
              "\n",
              "    .dataframe thead th {\n",
              "        text-align: right;\n",
              "    }\n",
              "</style>\n",
              "<table border=\"1\" class=\"dataframe\">\n",
              "  <thead>\n",
              "    <tr style=\"text-align: right;\">\n",
              "      <th></th>\n",
              "      <th>emotion</th>\n",
              "      <th>pixels</th>\n",
              "      <th>Usage</th>\n",
              "    </tr>\n",
              "  </thead>\n",
              "  <tbody>\n",
              "    <tr>\n",
              "      <th>0</th>\n",
              "      <td>0</td>\n",
              "      <td>70 80 82 72 58 58 60 63 54 58 60 48 89 115 121...</td>\n",
              "      <td>Training</td>\n",
              "    </tr>\n",
              "    <tr>\n",
              "      <th>1</th>\n",
              "      <td>0</td>\n",
              "      <td>151 150 147 155 148 133 111 140 170 174 182 15...</td>\n",
              "      <td>Training</td>\n",
              "    </tr>\n",
              "    <tr>\n",
              "      <th>2</th>\n",
              "      <td>2</td>\n",
              "      <td>231 212 156 164 174 138 161 173 182 200 106 38...</td>\n",
              "      <td>Training</td>\n",
              "    </tr>\n",
              "    <tr>\n",
              "      <th>3</th>\n",
              "      <td>4</td>\n",
              "      <td>24 32 36 30 32 23 19 20 30 41 21 22 32 34 21 1...</td>\n",
              "      <td>Training</td>\n",
              "    </tr>\n",
              "    <tr>\n",
              "      <th>4</th>\n",
              "      <td>6</td>\n",
              "      <td>4 0 0 0 0 0 0 0 0 0 0 0 3 15 23 28 48 50 58 84...</td>\n",
              "      <td>Training</td>\n",
              "    </tr>\n",
              "    <tr>\n",
              "      <th>...</th>\n",
              "      <td>...</td>\n",
              "      <td>...</td>\n",
              "      <td>...</td>\n",
              "    </tr>\n",
              "    <tr>\n",
              "      <th>35882</th>\n",
              "      <td>6</td>\n",
              "      <td>50 36 17 22 23 29 33 39 34 37 37 37 39 43 48 5...</td>\n",
              "      <td>PrivateTest</td>\n",
              "    </tr>\n",
              "    <tr>\n",
              "      <th>35883</th>\n",
              "      <td>3</td>\n",
              "      <td>178 174 172 173 181 188 191 194 196 199 200 20...</td>\n",
              "      <td>PrivateTest</td>\n",
              "    </tr>\n",
              "    <tr>\n",
              "      <th>35884</th>\n",
              "      <td>0</td>\n",
              "      <td>17 17 16 23 28 22 19 17 25 26 20 24 31 19 27 9...</td>\n",
              "      <td>PrivateTest</td>\n",
              "    </tr>\n",
              "    <tr>\n",
              "      <th>35885</th>\n",
              "      <td>3</td>\n",
              "      <td>30 28 28 29 31 30 42 68 79 81 77 67 67 71 63 6...</td>\n",
              "      <td>PrivateTest</td>\n",
              "    </tr>\n",
              "    <tr>\n",
              "      <th>35886</th>\n",
              "      <td>2</td>\n",
              "      <td>19 13 14 12 13 16 21 33 50 57 71 84 97 108 122...</td>\n",
              "      <td>PrivateTest</td>\n",
              "    </tr>\n",
              "  </tbody>\n",
              "</table>\n",
              "<p>35887 rows × 3 columns</p>\n",
              "</div>\n",
              "      <button class=\"colab-df-convert\" onclick=\"convertToInteractive('df-b03cff61-9fc6-4c40-b4d4-62c52c62fea7')\"\n",
              "              title=\"Convert this dataframe to an interactive table.\"\n",
              "              style=\"display:none;\">\n",
              "        \n",
              "  <svg xmlns=\"http://www.w3.org/2000/svg\" height=\"24px\"viewBox=\"0 0 24 24\"\n",
              "       width=\"24px\">\n",
              "    <path d=\"M0 0h24v24H0V0z\" fill=\"none\"/>\n",
              "    <path d=\"M18.56 5.44l.94 2.06.94-2.06 2.06-.94-2.06-.94-.94-2.06-.94 2.06-2.06.94zm-11 1L8.5 8.5l.94-2.06 2.06-.94-2.06-.94L8.5 2.5l-.94 2.06-2.06.94zm10 10l.94 2.06.94-2.06 2.06-.94-2.06-.94-.94-2.06-.94 2.06-2.06.94z\"/><path d=\"M17.41 7.96l-1.37-1.37c-.4-.4-.92-.59-1.43-.59-.52 0-1.04.2-1.43.59L10.3 9.45l-7.72 7.72c-.78.78-.78 2.05 0 2.83L4 21.41c.39.39.9.59 1.41.59.51 0 1.02-.2 1.41-.59l7.78-7.78 2.81-2.81c.8-.78.8-2.07 0-2.86zM5.41 20L4 18.59l7.72-7.72 1.47 1.35L5.41 20z\"/>\n",
              "  </svg>\n",
              "      </button>\n",
              "      \n",
              "  <style>\n",
              "    .colab-df-container {\n",
              "      display:flex;\n",
              "      flex-wrap:wrap;\n",
              "      gap: 12px;\n",
              "    }\n",
              "\n",
              "    .colab-df-convert {\n",
              "      background-color: #E8F0FE;\n",
              "      border: none;\n",
              "      border-radius: 50%;\n",
              "      cursor: pointer;\n",
              "      display: none;\n",
              "      fill: #1967D2;\n",
              "      height: 32px;\n",
              "      padding: 0 0 0 0;\n",
              "      width: 32px;\n",
              "    }\n",
              "\n",
              "    .colab-df-convert:hover {\n",
              "      background-color: #E2EBFA;\n",
              "      box-shadow: 0px 1px 2px rgba(60, 64, 67, 0.3), 0px 1px 3px 1px rgba(60, 64, 67, 0.15);\n",
              "      fill: #174EA6;\n",
              "    }\n",
              "\n",
              "    [theme=dark] .colab-df-convert {\n",
              "      background-color: #3B4455;\n",
              "      fill: #D2E3FC;\n",
              "    }\n",
              "\n",
              "    [theme=dark] .colab-df-convert:hover {\n",
              "      background-color: #434B5C;\n",
              "      box-shadow: 0px 1px 3px 1px rgba(0, 0, 0, 0.15);\n",
              "      filter: drop-shadow(0px 1px 2px rgba(0, 0, 0, 0.3));\n",
              "      fill: #FFFFFF;\n",
              "    }\n",
              "  </style>\n",
              "\n",
              "      <script>\n",
              "        const buttonEl =\n",
              "          document.querySelector('#df-b03cff61-9fc6-4c40-b4d4-62c52c62fea7 button.colab-df-convert');\n",
              "        buttonEl.style.display =\n",
              "          google.colab.kernel.accessAllowed ? 'block' : 'none';\n",
              "\n",
              "        async function convertToInteractive(key) {\n",
              "          const element = document.querySelector('#df-b03cff61-9fc6-4c40-b4d4-62c52c62fea7');\n",
              "          const dataTable =\n",
              "            await google.colab.kernel.invokeFunction('convertToInteractive',\n",
              "                                                     [key], {});\n",
              "          if (!dataTable) return;\n",
              "\n",
              "          const docLinkHtml = 'Like what you see? Visit the ' +\n",
              "            '<a target=\"_blank\" href=https://colab.research.google.com/notebooks/data_table.ipynb>data table notebook</a>'\n",
              "            + ' to learn more about interactive tables.';\n",
              "          element.innerHTML = '';\n",
              "          dataTable['output_type'] = 'display_data';\n",
              "          await google.colab.output.renderOutput(dataTable, element);\n",
              "          const docLink = document.createElement('div');\n",
              "          docLink.innerHTML = docLinkHtml;\n",
              "          element.appendChild(docLink);\n",
              "        }\n",
              "      </script>\n",
              "    </div>\n",
              "  </div>\n",
              "  "
            ]
          },
          "metadata": {},
          "execution_count": 5
        }
      ]
    },
    {
      "cell_type": "code",
      "source": [
        "\n",
        "x = df['pixels']\n",
        "y = df['emotion']\n",
        "\n",
        "#will oversample our dataset, this is needed because our data is imbalanced\n",
        "#equalizes the data by repeating some of the images for each category\n",
        "oversampler = RandomOverSampler(sampling_strategy='auto')\n",
        "\n",
        "x_over, y_over = oversampler.fit_resample(x.values.reshape(-1,1), y)\n"
      ],
      "metadata": {
        "id": "So5goDj-RW7y"
      },
      "execution_count": null,
      "outputs": []
    },
    {
      "cell_type": "code",
      "source": [
        "#will make the data look like rows of numbers separated by spaces in order to do the next step properly\n",
        "x_over=pd.Series(x_over.flatten())"
      ],
      "metadata": {
        "id": "JmSsll5reIC0"
      },
      "execution_count": null,
      "outputs": []
    },
    {
      "cell_type": "code",
      "source": [
        "\n",
        "x_arr = []\n",
        "#converts all data in the pixels column from lists of numbers separated by spaces to array of pixels and appends it to the X_arr\n",
        "for i in range(x_over.count()):\n",
        "    if not type(x_over[i]) == list : \n",
        "      x_arr.append(np.array(x_over[i].split(), np.float32))\n",
        "    else:\n",
        "      x_arr.append(np.array(x_over[i],np.float32))\n",
        "\n",
        "\n",
        "\n"
      ],
      "metadata": {
        "id": "lD-EwTjNaEH-"
      },
      "execution_count": null,
      "outputs": []
    },
    {
      "cell_type": "code",
      "source": [
        "#makes a huge array of all the arrays, needs to be done in order divide the numbers by 255 and will be how we train the model\n",
        "x_arr = np.array(x_arr)"
      ],
      "metadata": {
        "id": "4v-UTXZAejGq"
      },
      "execution_count": null,
      "outputs": []
    },
    {
      "cell_type": "code",
      "source": [
        "#divides the pixels by 255 in order to normalize the numbers between 0-1 so the computations are faster\n",
        "x_arr/=255\n"
      ],
      "metadata": {
        "id": "XLtFUag3lxRo"
      },
      "execution_count": null,
      "outputs": []
    },
    {
      "cell_type": "code",
      "source": [
        "#reshapes both arrays since all images are of format 48x48. 1 is used for greyscale images while 3 is for RGB\n",
        "x_arr = x_arr.reshape(-1, 48, 48,1)\n",
        "y_arr = np.array(y_over)\n",
        "\n",
        "y_arr = y_arr.reshape(y_over.count(), 1)\n"
      ],
      "metadata": {
        "id": "ZcXmaKVy3MrB"
      },
      "execution_count": null,
      "outputs": []
    },
    {
      "cell_type": "code",
      "source": [
        "#split data into 3 sets, training, validation, and test\n",
        "\n",
        "x_train, x_test, y_train, y_test = train_test_split(x_arr, y_arr, test_size = 0.2, random_state = 42)\n",
        "\n",
        "x_test, x_valid, y_test, y_valid = train_test_split(x_test, y_test, test_size = 0.5, random_state = 42)"
      ],
      "metadata": {
        "id": "_AhZMiDi4jZJ"
      },
      "execution_count": null,
      "outputs": []
    },
    {
      "cell_type": "code",
      "source": [
        "#only need to run this to see if the train set has anything in common with the validation set\n",
        "same = 0\n",
        "for i in range(0,6292):\n",
        "  if (x_train[i] == x_valid[i]).all():\n",
        "    same+=1\n",
        "print(same/6293)\n"
      ],
      "metadata": {
        "colab": {
          "base_uri": "https://localhost:8080/"
        },
        "id": "_kIiCks05hYs",
        "outputId": "3bda78e2-73b1-4300-8333-1422bfcc05f0"
      },
      "execution_count": null,
      "outputs": [
        {
          "output_type": "stream",
          "name": "stdout",
          "text": [
            "0.0\n"
          ]
        }
      ]
    },
    {
      "cell_type": "code",
      "source": [
        "#changes from integers to arrays of 0 and 1 \n",
        "#where the index number equals the number associated to an emotion i.e  if 1 is found at the 0th index than the emotion is Angry\n",
        "y_train = np_utils.to_categorical(y_train, 7)\n",
        "y_test = np_utils.to_categorical(y_test, 7)\n",
        "y_valid = np_utils.to_categorical(y_valid, 7)"
      ],
      "metadata": {
        "id": "H9WyIX6e61IU"
      },
      "execution_count": null,
      "outputs": []
    },
    {
      "cell_type": "code",
      "source": [
        "#creates model, strategy.scope() is used in order to use the tpu when fitting the model, reduces the time significantly\n",
        "with strategy.scope():\n",
        "  model = tf.keras.models.Sequential([\n",
        "      # Note the input shape is the desired size of the image 48x48 with 1 channel depth, 1 represents greyscale\n",
        "      # This is the first convolution\n",
        "      tf.keras.layers.Conv2D(64, (3,3), activation='relu', input_shape=(48, 48, 1)),\n",
        "      tf.keras.layers.MaxPooling2D(2,2),\n",
        "      # The second convolution\n",
        "      tf.keras.layers.Conv2D(64, (3,3), activation='relu'),\n",
        "      tf.keras.layers.MaxPooling2D(2,2),\n",
        "      # The third convolution\n",
        "      tf.keras.layers.Conv2D(128, (3,3), activation='relu'),\n",
        "      tf.keras.layers.MaxPooling2D(2,2),\n",
        "      # The fourth convolution\n",
        "      tf.keras.layers.Conv2D(128, (3,3), activation='relu'),\n",
        "      tf.keras.layers.MaxPooling2D(2,2),\n",
        "\n",
        "      # Flatten the results to feed into a DNN\n",
        "      tf.keras.layers.Flatten(),\n",
        "      tf.keras.layers.Dropout(0.5),\n",
        "      # 200 neuron hidden layer\n",
        "      tf.keras.layers.Dense(200, activation='relu'),\n",
        "      tf.keras.layers.Dense(7, activation='softmax')\n",
        "  ])\n",
        "\n",
        "\n",
        "model.summary()\n",
        "\n",
        "model.compile(loss = 'categorical_crossentropy', optimizer=tf.keras.optimizers.Adam(learning_rate=0.0001), metrics=['accuracy'])"
      ],
      "metadata": {
        "id": "g9OHoDP5njr5",
        "colab": {
          "base_uri": "https://localhost:8080/"
        },
        "outputId": "ce905554-bcb6-4975-df2e-700c23861f7f"
      },
      "execution_count": null,
      "outputs": [
        {
          "output_type": "stream",
          "name": "stdout",
          "text": [
            "Model: \"sequential_2\"\n",
            "_________________________________________________________________\n",
            " Layer (type)                Output Shape              Param #   \n",
            "=================================================================\n",
            " conv2d_8 (Conv2D)           (None, 46, 46, 64)        640       \n",
            "                                                                 \n",
            " max_pooling2d_8 (MaxPooling  (None, 23, 23, 64)       0         \n",
            " 2D)                                                             \n",
            "                                                                 \n",
            " conv2d_9 (Conv2D)           (None, 21, 21, 64)        36928     \n",
            "                                                                 \n",
            " max_pooling2d_9 (MaxPooling  (None, 10, 10, 64)       0         \n",
            " 2D)                                                             \n",
            "                                                                 \n",
            " conv2d_10 (Conv2D)          (None, 8, 8, 128)         73856     \n",
            "                                                                 \n",
            " max_pooling2d_10 (MaxPoolin  (None, 4, 4, 128)        0         \n",
            " g2D)                                                            \n",
            "                                                                 \n",
            " conv2d_11 (Conv2D)          (None, 2, 2, 128)         147584    \n",
            "                                                                 \n",
            " max_pooling2d_11 (MaxPoolin  (None, 1, 1, 128)        0         \n",
            " g2D)                                                            \n",
            "                                                                 \n",
            " flatten_2 (Flatten)         (None, 128)               0         \n",
            "                                                                 \n",
            " dropout_2 (Dropout)         (None, 128)               0         \n",
            "                                                                 \n",
            " dense_4 (Dense)             (None, 200)               25800     \n",
            "                                                                 \n",
            " dense_5 (Dense)             (None, 7)                 1407      \n",
            "                                                                 \n",
            "=================================================================\n",
            "Total params: 286,215\n",
            "Trainable params: 286,215\n",
            "Non-trainable params: 0\n",
            "_________________________________________________________________\n"
          ]
        }
      ]
    },
    {
      "cell_type": "code",
      "source": [
        "\n",
        "#fits model\n",
        "history = model.fit(x_train,y_train, epochs=70, validation_data=(x_valid,y_valid),verbose=1)\n",
        "\n"
      ],
      "metadata": {
        "colab": {
          "base_uri": "https://localhost:8080/"
        },
        "id": "hiQV1ENPoIZi",
        "outputId": "ce98e513-7aad-4ee3-e368-a93993e5d005"
      },
      "execution_count": null,
      "outputs": [
        {
          "output_type": "stream",
          "name": "stdout",
          "text": [
            "Epoch 1/70\n",
            "1574/1574 [==============================] - 41s 21ms/step - loss: 1.8964 - accuracy: 0.2035 - val_loss: 1.7518 - val_accuracy: 0.3143\n",
            "Epoch 2/70\n",
            "1574/1574 [==============================] - 29s 19ms/step - loss: 1.7016 - accuracy: 0.3396 - val_loss: 1.5698 - val_accuracy: 0.4098\n",
            "Epoch 3/70\n",
            "1574/1574 [==============================] - 30s 19ms/step - loss: 1.5666 - accuracy: 0.4042 - val_loss: 1.4434 - val_accuracy: 0.4584\n",
            "Epoch 4/70\n",
            "1574/1574 [==============================] - 30s 19ms/step - loss: 1.4696 - accuracy: 0.4444 - val_loss: 1.3668 - val_accuracy: 0.4874\n",
            "Epoch 5/70\n",
            "1574/1574 [==============================] - 30s 19ms/step - loss: 1.3883 - accuracy: 0.4770 - val_loss: 1.2912 - val_accuracy: 0.5157\n",
            "Epoch 6/70\n",
            "1574/1574 [==============================] - 29s 19ms/step - loss: 1.3258 - accuracy: 0.5015 - val_loss: 1.2194 - val_accuracy: 0.5454\n",
            "Epoch 7/70\n",
            "1574/1574 [==============================] - 29s 18ms/step - loss: 1.2608 - accuracy: 0.5225 - val_loss: 1.1713 - val_accuracy: 0.5589\n",
            "Epoch 8/70\n",
            "1574/1574 [==============================] - 29s 19ms/step - loss: 1.2132 - accuracy: 0.5419 - val_loss: 1.1242 - val_accuracy: 0.5810\n",
            "Epoch 9/70\n",
            "1574/1574 [==============================] - 29s 19ms/step - loss: 1.1709 - accuracy: 0.5550 - val_loss: 1.0858 - val_accuracy: 0.5900\n",
            "Epoch 10/70\n",
            "1574/1574 [==============================] - 30s 19ms/step - loss: 1.1310 - accuracy: 0.5710 - val_loss: 1.0577 - val_accuracy: 0.5986\n",
            "Epoch 11/70\n",
            "1574/1574 [==============================] - 30s 19ms/step - loss: 1.0965 - accuracy: 0.5819 - val_loss: 1.0428 - val_accuracy: 0.6046\n",
            "Epoch 12/70\n",
            "1574/1574 [==============================] - 30s 19ms/step - loss: 1.0697 - accuracy: 0.5912 - val_loss: 1.0262 - val_accuracy: 0.6073\n",
            "Epoch 13/70\n",
            "1574/1574 [==============================] - 30s 19ms/step - loss: 1.0414 - accuracy: 0.6028 - val_loss: 0.9982 - val_accuracy: 0.6199\n",
            "Epoch 14/70\n",
            "1574/1574 [==============================] - 30s 19ms/step - loss: 1.0194 - accuracy: 0.6111 - val_loss: 0.9851 - val_accuracy: 0.6274\n",
            "Epoch 15/70\n",
            "1574/1574 [==============================] - 31s 20ms/step - loss: 0.9960 - accuracy: 0.6185 - val_loss: 0.9574 - val_accuracy: 0.6352\n",
            "Epoch 16/70\n",
            "1574/1574 [==============================] - 30s 19ms/step - loss: 0.9743 - accuracy: 0.6300 - val_loss: 0.9473 - val_accuracy: 0.6418\n",
            "Epoch 17/70\n",
            "1574/1574 [==============================] - 30s 19ms/step - loss: 0.9558 - accuracy: 0.6360 - val_loss: 0.9349 - val_accuracy: 0.6474\n",
            "Epoch 18/70\n",
            "1574/1574 [==============================] - 30s 19ms/step - loss: 0.9363 - accuracy: 0.6467 - val_loss: 0.9155 - val_accuracy: 0.6574\n",
            "Epoch 19/70\n",
            "1574/1574 [==============================] - 30s 19ms/step - loss: 0.9162 - accuracy: 0.6521 - val_loss: 0.9074 - val_accuracy: 0.6628\n",
            "Epoch 20/70\n",
            "1574/1574 [==============================] - 30s 19ms/step - loss: 0.8980 - accuracy: 0.6615 - val_loss: 0.9122 - val_accuracy: 0.6584\n",
            "Epoch 21/70\n",
            "1574/1574 [==============================] - 30s 19ms/step - loss: 0.8789 - accuracy: 0.6661 - val_loss: 0.8731 - val_accuracy: 0.6766\n",
            "Epoch 22/70\n",
            "1574/1574 [==============================] - 29s 19ms/step - loss: 0.8617 - accuracy: 0.6729 - val_loss: 0.8735 - val_accuracy: 0.6763\n",
            "Epoch 23/70\n",
            "1574/1574 [==============================] - 29s 19ms/step - loss: 0.8439 - accuracy: 0.6825 - val_loss: 0.8562 - val_accuracy: 0.6836\n",
            "Epoch 24/70\n",
            "1574/1574 [==============================] - 30s 19ms/step - loss: 0.8274 - accuracy: 0.6897 - val_loss: 0.8551 - val_accuracy: 0.6857\n",
            "Epoch 25/70\n",
            "1574/1574 [==============================] - 31s 20ms/step - loss: 0.8074 - accuracy: 0.6973 - val_loss: 0.8429 - val_accuracy: 0.6854\n",
            "Epoch 26/70\n",
            "1574/1574 [==============================] - 30s 19ms/step - loss: 0.7911 - accuracy: 0.7020 - val_loss: 0.8424 - val_accuracy: 0.6943\n",
            "Epoch 27/70\n",
            "1574/1574 [==============================] - 29s 19ms/step - loss: 0.7783 - accuracy: 0.7102 - val_loss: 0.8295 - val_accuracy: 0.6935\n",
            "Epoch 28/70\n",
            "1574/1574 [==============================] - 29s 19ms/step - loss: 0.7639 - accuracy: 0.7130 - val_loss: 0.8206 - val_accuracy: 0.7020\n",
            "Epoch 29/70\n",
            "1574/1574 [==============================] - 30s 19ms/step - loss: 0.7501 - accuracy: 0.7186 - val_loss: 0.8021 - val_accuracy: 0.7086\n",
            "Epoch 30/70\n",
            "1574/1574 [==============================] - 30s 19ms/step - loss: 0.7335 - accuracy: 0.7254 - val_loss: 0.7976 - val_accuracy: 0.7105\n",
            "Epoch 31/70\n",
            "1574/1574 [==============================] - 29s 19ms/step - loss: 0.7173 - accuracy: 0.7316 - val_loss: 0.7888 - val_accuracy: 0.7184\n",
            "Epoch 32/70\n",
            "1574/1574 [==============================] - 29s 19ms/step - loss: 0.7053 - accuracy: 0.7366 - val_loss: 0.7710 - val_accuracy: 0.7222\n",
            "Epoch 33/70\n",
            "1574/1574 [==============================] - 30s 19ms/step - loss: 0.6833 - accuracy: 0.7470 - val_loss: 0.7951 - val_accuracy: 0.7141\n",
            "Epoch 34/70\n",
            "1574/1574 [==============================] - 30s 19ms/step - loss: 0.6801 - accuracy: 0.7459 - val_loss: 0.7677 - val_accuracy: 0.7251\n",
            "Epoch 35/70\n",
            "1574/1574 [==============================] - 30s 19ms/step - loss: 0.6606 - accuracy: 0.7530 - val_loss: 0.7588 - val_accuracy: 0.7316\n",
            "Epoch 36/70\n",
            "1574/1574 [==============================] - 30s 19ms/step - loss: 0.6501 - accuracy: 0.7578 - val_loss: 0.7650 - val_accuracy: 0.7370\n",
            "Epoch 37/70\n",
            "1574/1574 [==============================] - 30s 19ms/step - loss: 0.6324 - accuracy: 0.7672 - val_loss: 0.7480 - val_accuracy: 0.7415\n",
            "Epoch 38/70\n",
            "1574/1574 [==============================] - 30s 19ms/step - loss: 0.6222 - accuracy: 0.7686 - val_loss: 0.7384 - val_accuracy: 0.7427\n",
            "Epoch 39/70\n",
            "1574/1574 [==============================] - 30s 19ms/step - loss: 0.6192 - accuracy: 0.7717 - val_loss: 0.7329 - val_accuracy: 0.7496\n",
            "Epoch 40/70\n",
            "1574/1574 [==============================] - 29s 19ms/step - loss: 0.5965 - accuracy: 0.7806 - val_loss: 0.7446 - val_accuracy: 0.7527\n",
            "Epoch 41/70\n",
            "1574/1574 [==============================] - 29s 19ms/step - loss: 0.5861 - accuracy: 0.7836 - val_loss: 0.7248 - val_accuracy: 0.7534\n",
            "Epoch 42/70\n",
            "1574/1574 [==============================] - 29s 19ms/step - loss: 0.5825 - accuracy: 0.7843 - val_loss: 0.7348 - val_accuracy: 0.7564\n",
            "Epoch 43/70\n",
            "1574/1574 [==============================] - 30s 19ms/step - loss: 0.5723 - accuracy: 0.7881 - val_loss: 0.7382 - val_accuracy: 0.7535\n",
            "Epoch 44/70\n",
            "1574/1574 [==============================] - 29s 18ms/step - loss: 0.5553 - accuracy: 0.7961 - val_loss: 0.7248 - val_accuracy: 0.7581\n",
            "Epoch 45/70\n",
            "1574/1574 [==============================] - 30s 19ms/step - loss: 0.5520 - accuracy: 0.7966 - val_loss: 0.7132 - val_accuracy: 0.7613\n",
            "Epoch 46/70\n",
            "1574/1574 [==============================] - 30s 19ms/step - loss: 0.5336 - accuracy: 0.8031 - val_loss: 0.7033 - val_accuracy: 0.7662\n",
            "Epoch 47/70\n",
            "1574/1574 [==============================] - 30s 19ms/step - loss: 0.5290 - accuracy: 0.8059 - val_loss: 0.7120 - val_accuracy: 0.7650\n",
            "Epoch 48/70\n",
            "1574/1574 [==============================] - 30s 19ms/step - loss: 0.5201 - accuracy: 0.8082 - val_loss: 0.7059 - val_accuracy: 0.7753\n",
            "Epoch 49/70\n",
            "1574/1574 [==============================] - 30s 19ms/step - loss: 0.5092 - accuracy: 0.8115 - val_loss: 0.7189 - val_accuracy: 0.7720\n",
            "Epoch 50/70\n",
            "1574/1574 [==============================] - 30s 19ms/step - loss: 0.5027 - accuracy: 0.8144 - val_loss: 0.7056 - val_accuracy: 0.7777\n",
            "Epoch 51/70\n",
            "1574/1574 [==============================] - 30s 19ms/step - loss: 0.4893 - accuracy: 0.8182 - val_loss: 0.7247 - val_accuracy: 0.7758\n",
            "Epoch 52/70\n",
            "1574/1574 [==============================] - 30s 19ms/step - loss: 0.4883 - accuracy: 0.8192 - val_loss: 0.7001 - val_accuracy: 0.7794\n",
            "Epoch 53/70\n",
            "1574/1574 [==============================] - 30s 19ms/step - loss: 0.4757 - accuracy: 0.8239 - val_loss: 0.6954 - val_accuracy: 0.7753\n",
            "Epoch 54/70\n",
            "1574/1574 [==============================] - 29s 19ms/step - loss: 0.4674 - accuracy: 0.8290 - val_loss: 0.7146 - val_accuracy: 0.7810\n",
            "Epoch 55/70\n",
            "1574/1574 [==============================] - 30s 19ms/step - loss: 0.4598 - accuracy: 0.8313 - val_loss: 0.6900 - val_accuracy: 0.7844\n",
            "Epoch 56/70\n",
            "1574/1574 [==============================] - 30s 19ms/step - loss: 0.4541 - accuracy: 0.8334 - val_loss: 0.7015 - val_accuracy: 0.7866\n",
            "Epoch 57/70\n",
            "1574/1574 [==============================] - 29s 19ms/step - loss: 0.4510 - accuracy: 0.8319 - val_loss: 0.6885 - val_accuracy: 0.7901\n",
            "Epoch 58/70\n",
            "1574/1574 [==============================] - 30s 19ms/step - loss: 0.4442 - accuracy: 0.8358 - val_loss: 0.6942 - val_accuracy: 0.7894\n",
            "Epoch 59/70\n",
            "1574/1574 [==============================] - 30s 19ms/step - loss: 0.4350 - accuracy: 0.8395 - val_loss: 0.7006 - val_accuracy: 0.7896\n",
            "Epoch 60/70\n",
            "1574/1574 [==============================] - 29s 19ms/step - loss: 0.4309 - accuracy: 0.8403 - val_loss: 0.7045 - val_accuracy: 0.7901\n",
            "Epoch 61/70\n",
            "1574/1574 [==============================] - 29s 19ms/step - loss: 0.4150 - accuracy: 0.8460 - val_loss: 0.7009 - val_accuracy: 0.7925\n",
            "Epoch 62/70\n",
            "1574/1574 [==============================] - 29s 19ms/step - loss: 0.4152 - accuracy: 0.8469 - val_loss: 0.6925 - val_accuracy: 0.7955\n",
            "Epoch 63/70\n",
            "1574/1574 [==============================] - 29s 19ms/step - loss: 0.4118 - accuracy: 0.8481 - val_loss: 0.7007 - val_accuracy: 0.7863\n",
            "Epoch 64/70\n",
            "1574/1574 [==============================] - 30s 19ms/step - loss: 0.4030 - accuracy: 0.8505 - val_loss: 0.6980 - val_accuracy: 0.7979\n",
            "Epoch 65/70\n",
            "1574/1574 [==============================] - 30s 19ms/step - loss: 0.4007 - accuracy: 0.8514 - val_loss: 0.6878 - val_accuracy: 0.8015\n",
            "Epoch 66/70\n",
            "1574/1574 [==============================] - 33s 21ms/step - loss: 0.3881 - accuracy: 0.8558 - val_loss: 0.7177 - val_accuracy: 0.8022\n",
            "Epoch 67/70\n",
            "1574/1574 [==============================] - 31s 20ms/step - loss: 0.3844 - accuracy: 0.8579 - val_loss: 0.7226 - val_accuracy: 0.7996\n",
            "Epoch 68/70\n",
            "1574/1574 [==============================] - 33s 21ms/step - loss: 0.3806 - accuracy: 0.8585 - val_loss: 0.7293 - val_accuracy: 0.8023\n",
            "Epoch 69/70\n",
            "1574/1574 [==============================] - 34s 22ms/step - loss: 0.3819 - accuracy: 0.8562 - val_loss: 0.6920 - val_accuracy: 0.8053\n",
            "Epoch 70/70\n",
            "1574/1574 [==============================] - 31s 20ms/step - loss: 0.3681 - accuracy: 0.8637 - val_loss: 0.7104 - val_accuracy: 0.8090\n"
          ]
        }
      ]
    },
    {
      "cell_type": "code",
      "source": [
        "model.save(\"emotion6.h5\")\n"
      ],
      "metadata": {
        "id": "89HAC8YXMYyd"
      },
      "execution_count": null,
      "outputs": []
    },
    {
      "cell_type": "code",
      "source": [
        "import matplotlib.pyplot as plt\n",
        "acc = history.history['accuracy']\n",
        "val_acc = history.history['val_accuracy']\n",
        "loss = history.history['loss']\n",
        "val_loss = history.history['val_loss']\n",
        "\n",
        "epochs = range(len(acc))\n",
        "\n",
        "plt.plot(epochs, acc, 'r', label='Training accuracy')\n",
        "plt.plot(epochs, val_acc, 'b', label='Validation accuracy')\n",
        "plt.ylabel('accuracy')\n",
        "plt.xlabel('epochs')\n",
        "plt.title('Training and validation accuracy')\n",
        "plt.legend(loc=0)\n",
        "plt.figure()\n",
        "\n",
        "\n",
        "plt.show()"
      ],
      "metadata": {
        "colab": {
          "base_uri": "https://localhost:8080/",
          "height": 312
        },
        "id": "Viz8kL4VMsHs",
        "outputId": "27247e38-b316-4b59-e09b-5c61fc258b51"
      },
      "execution_count": null,
      "outputs": [
        {
          "output_type": "display_data",
          "data": {
            "text/plain": [
              "<Figure size 432x288 with 1 Axes>"
            ],
            "image/png": "[encoded data removed]"
          },
          "metadata": {
            "needs_background": "light"
          }
        },
        {
          "output_type": "display_data",
          "data": {
            "text/plain": [
              "<Figure size 432x288 with 0 Axes>"
            ]
          },
          "metadata": {}
        }
      ]
    },
    {
      "cell_type": "code",
      "source": [
        "plt.plot(history.history['loss'])\n",
        "plt.plot(history.history['val_loss'])\n",
        "plt.title('model loss')\n",
        "plt.ylabel('loss')\n",
        "plt.xlabel('epoch')\n",
        "plt.legend(['train', 'test'], loc='upper left')\n",
        "plt.show()"
      ],
      "metadata": {
        "colab": {
          "base_uri": "https://localhost:8080/",
          "height": 295
        },
        "id": "AZTDHtD-M_kL",
        "outputId": "61245ea3-ea07-4145-9a36-30baf310e4b9"
      },
      "execution_count": null,
      "outputs": [
        {
          "output_type": "display_data",
          "data": {
            "text/plain": [
              "<Figure size 432x288 with 1 Axes>"
            ],
            "image/png": "[encoded data removed]"
          },
          "metadata": {
            "needs_background": "light"
          }
        }
      ]
    },
    {
      "cell_type": "code",
      "source": [
        " #In case you want to load the model from your google drive\n",
        " #model1 =tf.keras.models.load_model('/content/drive/MyDrive/emotion6.h5')"
      ],
      "metadata": {
        "id": "WhbWEMVQ-t_d"
      },
      "execution_count": null,
      "outputs": []
    },
    {
      "cell_type": "code",
      "source": [
        "#testing\n",
        "y_pred = model1.predict(x_test)\n",
        "y_result = []\n",
        "\n",
        "for pred in y_pred:\n",
        "    y_result.append(np.argmax(pred)) #since the predictions will return arrays where 1 is slot for the emotion it predicted, the argmax() will return the index number where it found the 1\n",
        "y_result[:10]"
      ],
      "metadata": {
        "colab": {
          "base_uri": "https://localhost:8080/"
        },
        "id": "cpvkoWNe-yuO",
        "outputId": "b8eb4546-ee5f-421a-f92b-08d98d3cd1f9"
      },
      "execution_count": null,
      "outputs": [
        {
          "output_type": "execute_result",
          "data": {
            "text/plain": [
              "[2, 2, 4, 3, 5, 5, 3, 3, 1, 6]"
            ]
          },
          "metadata": {},
          "execution_count": 19
        }
      ]
    },
    {
      "cell_type": "code",
      "source": [
        "#actual emotion number associated with x_test\n",
        "y_true_result = []\n",
        "\n",
        "for pred in y_test:\n",
        "    y_true_result.append(np.argmax(pred))\n",
        "y_true_result[:10]"
      ],
      "metadata": {
        "colab": {
          "base_uri": "https://localhost:8080/"
        },
        "id": "vliVgZEz3zxp",
        "outputId": "e3a9cd1b-ca06-48d8-9973-8f1b705b889b"
      },
      "execution_count": null,
      "outputs": [
        {
          "output_type": "execute_result",
          "data": {
            "text/plain": [
              "[2, 2, 4, 2, 5, 4, 3, 3, 1, 6]"
            ]
          },
          "metadata": {},
          "execution_count": 20
        }
      ]
    },
    {
      "cell_type": "markdown",
      "source": [
        ""
      ],
      "metadata": {
        "id": "0jZ5dIwIPQ7z"
      }
    }
  ]
}